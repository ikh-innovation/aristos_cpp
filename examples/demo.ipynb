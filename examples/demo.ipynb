{
 "cells": [
  {
   "cell_type": "markdown",
   "metadata": {},
   "source": [
    "# Coverage Path Planning using Tango based on Unified-Planning"
   ]
  },
  {
   "cell_type": "markdown",
   "metadata": {},
   "source": [
    "## Imports"
   ]
  },
  {
   "cell_type": "code",
   "execution_count": 1,
   "metadata": {},
   "outputs": [],
   "source": [
    "import numpy as np\n",
    "import matplotlib.pyplot as plt\n",
    "from aristos_cpp.map import Parser\n",
    "from aristos_cpp.coverage_planner import CoveragePlanner\n",
    "from aristos_cpp.plot_utils import PlotUtils\n",
    "from PIL import Image, ImageDraw    \n",
    "\n",
    "import warnings\n",
    "warnings.filterwarnings(\"ignore\")"
   ]
  },
  {
   "cell_type": "markdown",
   "metadata": {},
   "source": [
    "## Main"
   ]
  },
  {
   "cell_type": "markdown",
   "metadata": {},
   "source": [
    "### Import maps"
   ]
  },
  {
   "cell_type": "code",
   "execution_count": 2,
   "metadata": {},
   "outputs": [],
   "source": [
    "# Paths to your YAML configuration files\n",
    "# Comment-out the map you want to use\n",
    "\n",
    "# # 1-  Domokos Map\n",
    "hard_map = 'maps/map_domokos.yaml'\n",
    "soft_map = 'maps/unsafe_domokos.yaml'\n",
    "robot_config = 'maps/robot_dim.yaml'\n",
    "\n",
    "\n",
    "# # 2-  IT Map\n",
    "# hard_map = 'maps/map_it_right.yaml'\n",
    "# soft_map = 'maps/unsafe_it.yaml'\n",
    "# robot_config = 'maps/robot_dim.yaml'"
   ]
  },
  {
   "cell_type": "markdown",
   "metadata": {},
   "source": [
    "### Planner"
   ]
  },
  {
   "cell_type": "markdown",
   "metadata": {},
   "source": [
    "You can specify the selected area you want to plan, either in meters or in pixels.\n",
    "For meters, the boundaries:\n",
    "\n",
    "- yaml files give origin that corresponds to xmin and ymin\n",
    "- $ xmax ​= xmin ​+ (Width in pixels×Resolution)$ and $ ymax ​= ymin ​+ (Height in pixels×Resolution) $\n"
   ]
  },
  {
   "cell_type": "code",
   "execution_count": 3,
   "metadata": {},
   "outputs": [
    {
     "name": "stdout",
     "output_type": "stream",
     "text": [
      "Number of soft cells: 183\n"
     ]
    },
    {
     "name": "stderr",
     "output_type": "stream",
     "text": [
      "0it [00:00, ?it/s]\n"
     ]
    },
    {
     "ename": "ValueError",
     "evalue": "data must be of shape (n, m), where there aren points of dimension m",
     "output_type": "error",
     "traceback": [
      "\u001b[0;31m---------------------------------------------------------------------------\u001b[0m",
      "\u001b[0;31mValueError\u001b[0m                                Traceback (most recent call last)",
      "Cell \u001b[0;32mIn[3], line 28\u001b[0m\n\u001b[1;32m      8\u001b[0m polygon \u001b[38;5;241m=\u001b[39m [\n\u001b[1;32m      9\u001b[0m     (\u001b[38;5;241m2.0\u001b[39m, \u001b[38;5;241m0.0\u001b[39m),   \u001b[38;5;66;03m# Bottom-right corner\u001b[39;00m\n\u001b[1;32m     10\u001b[0m     (\u001b[38;5;241m2.0\u001b[39m, \u001b[38;5;241m25.0\u001b[39m),   \u001b[38;5;66;03m# Top-right corner\u001b[39;00m\n\u001b[1;32m     11\u001b[0m     (\u001b[38;5;241m-\u001b[39m\u001b[38;5;241m16.0\u001b[39m, \u001b[38;5;241m25.0\u001b[39m),   \u001b[38;5;66;03m# Top-left corner\u001b[39;00m\n\u001b[1;32m     12\u001b[0m     (\u001b[38;5;241m-\u001b[39m\u001b[38;5;241m16.0\u001b[39m, \u001b[38;5;241m0.0\u001b[39m)    \u001b[38;5;66;03m# Bottom-left corner\u001b[39;00m\n\u001b[1;32m     13\u001b[0m ]\n\u001b[1;32m     15\u001b[0m \u001b[38;5;66;03m# Area in Domokos Map that correspond to the center of the map where there are side free corridors\u001b[39;00m\n\u001b[1;32m     16\u001b[0m \u001b[38;5;66;03m# The origin of the path is the upper left corner of the polygon\u001b[39;00m\n\u001b[1;32m     17\u001b[0m \u001b[38;5;66;03m# polygon = [\u001b[39;00m\n\u001b[0;32m   (...)\u001b[0m\n\u001b[1;32m     26\u001b[0m \u001b[38;5;66;03m# - rescaled path is the path in the high-dimensional grid coordinate system\u001b[39;00m\n\u001b[1;32m     27\u001b[0m \u001b[38;5;66;03m# - path is the path in the in the low-dimensional grid coordinate system\u001b[39;00m\n\u001b[0;32m---> 28\u001b[0m abs_path, rescaled_path, path \u001b[38;5;241m=\u001b[39m \u001b[43mplanner\u001b[49m\u001b[38;5;241;43m.\u001b[39;49m\u001b[43mrun\u001b[49m\u001b[43m(\u001b[49m\u001b[43mpolygon\u001b[49m\u001b[38;5;241;43m=\u001b[39;49m\u001b[43mpolygon\u001b[49m\u001b[43m)\u001b[49m\n",
      "File \u001b[0;32m~/anaconda3/envs/cpp_env/lib/python3.10/site-packages/aristos_cpp/coverage_planner.py:54\u001b[0m, in \u001b[0;36mCoveragePlanner.run\u001b[0;34m(self, polygon, initial_position, direction, unit)\u001b[0m\n\u001b[1;32m     52\u001b[0m \u001b[38;5;66;03m## 3. RUN THE SOLVER ON THE SELECTED AREA\u001b[39;00m\n\u001b[1;32m     53\u001b[0m \u001b[38;5;28mself\u001b[39m\u001b[38;5;241m.\u001b[39m_solver \u001b[38;5;241m=\u001b[39m Solver(\u001b[38;5;28mself\u001b[39m\u001b[38;5;241m.\u001b[39m_map\u001b[38;5;241m.\u001b[39mgrid_downscaled, position\u001b[38;5;241m=\u001b[39minitial_position, direction\u001b[38;5;241m=\u001b[39mdirection)\n\u001b[0;32m---> 54\u001b[0m \u001b[38;5;28;43mself\u001b[39;49m\u001b[38;5;241;43m.\u001b[39;49m\u001b[43m_solver\u001b[49m\u001b[38;5;241;43m.\u001b[39;49m\u001b[43mrun\u001b[49m\u001b[43m(\u001b[49m\u001b[43m)\u001b[49m\n\u001b[1;32m     56\u001b[0m \u001b[38;5;66;03m# Print solver info which returns return {'length': len(self._path), 'covered': f\"{round(len(self._visited) / total_length * 100, 1)}%\", 'totalLength': total_length, 'turns': self._turns}\u001b[39;00m\n\u001b[1;32m     57\u001b[0m info \u001b[38;5;241m=\u001b[39m \u001b[38;5;28mself\u001b[39m\u001b[38;5;241m.\u001b[39m_solver\u001b[38;5;241m.\u001b[39minfo()\n",
      "File \u001b[0;32m~/anaconda3/envs/cpp_env/lib/python3.10/site-packages/aristos_cpp/solver.py:99\u001b[0m, in \u001b[0;36mSolver.run\u001b[0;34m(self)\u001b[0m\n\u001b[1;32m     97\u001b[0m \u001b[38;5;28;01mwith\u001b[39;00m tqdm(total\u001b[38;5;241m=\u001b[39msize \u001b[38;5;241m-\u001b[39m np\u001b[38;5;241m.\u001b[39mcount_nonzero(\u001b[38;5;28mself\u001b[39m\u001b[38;5;241m.\u001b[39m_grid)) \u001b[38;5;28;01mas\u001b[39;00m pbar:\n\u001b[1;32m     98\u001b[0m     \u001b[38;5;28;01mwhile\u001b[39;00m should_continue:\n\u001b[0;32m---> 99\u001b[0m         _, should_continue \u001b[38;5;241m=\u001b[39m \u001b[38;5;28;43mself\u001b[39;49m\u001b[38;5;241;43m.\u001b[39;49m\u001b[43mproceed\u001b[49m\u001b[43m(\u001b[49m\u001b[43m)\u001b[49m\n\u001b[1;32m    100\u001b[0m         current \u001b[38;5;241m=\u001b[39m \u001b[38;5;28mlen\u001b[39m(\u001b[38;5;28mself\u001b[39m\u001b[38;5;241m.\u001b[39m_visited)\n\u001b[1;32m    101\u001b[0m         pbar\u001b[38;5;241m.\u001b[39mupdate(current \u001b[38;5;241m-\u001b[39m previous)\n",
      "File \u001b[0;32m~/anaconda3/envs/cpp_env/lib/python3.10/site-packages/aristos_cpp/solver.py:240\u001b[0m, in \u001b[0;36mSolver.proceed\u001b[0;34m(self, subgrid_dim, offsets)\u001b[0m\n\u001b[1;32m    238\u001b[0m     \u001b[38;5;28mself\u001b[39m\u001b[38;5;241m.\u001b[39mcheck_offsets()\n\u001b[1;32m    239\u001b[0m relaxed \u001b[38;5;241m=\u001b[39m \u001b[38;5;28;01mFalse\u001b[39;00m\n\u001b[0;32m--> 240\u001b[0m boundaries, grid \u001b[38;5;241m=\u001b[39m \u001b[38;5;28;43mself\u001b[39;49m\u001b[38;5;241;43m.\u001b[39;49m\u001b[43mpartition\u001b[49m\u001b[43m(\u001b[49m\u001b[43msubgrid_dim\u001b[49m\u001b[38;5;241;43m=\u001b[39;49m\u001b[43msubgrid_dim\u001b[49m\u001b[43m)\u001b[49m\n\u001b[1;32m    241\u001b[0m xmin, ymin, xmax, ymax \u001b[38;5;241m=\u001b[39m boundaries\n\u001b[1;32m    242\u001b[0m free_sides, free_cells \u001b[38;5;241m=\u001b[39m \u001b[38;5;28mself\u001b[39m\u001b[38;5;241m.\u001b[39mfind_free_boundaries(boundaries)\n",
      "File \u001b[0;32m~/anaconda3/envs/cpp_env/lib/python3.10/site-packages/aristos_cpp/solver.py:312\u001b[0m, in \u001b[0;36mSolver.partition\u001b[0;34m(self, subgrid_dim)\u001b[0m\n\u001b[1;32m    308\u001b[0m ranges \u001b[38;5;241m=\u001b[39m \u001b[38;5;28mlist\u001b[39m(\u001b[38;5;28mset\u001b[39m(ranges))\n\u001b[1;32m    310\u001b[0m scores \u001b[38;5;241m=\u001b[39m []\n\u001b[0;32m--> 312\u001b[0m yf, xf \u001b[38;5;241m=\u001b[39m \u001b[38;5;28;43mself\u001b[39;49m\u001b[38;5;241;43m.\u001b[39;49m\u001b[43m_locate_closest_free\u001b[49m\u001b[43m(\u001b[49m\u001b[43m)\u001b[49m\n\u001b[1;32m    313\u001b[0m theta \u001b[38;5;241m=\u001b[39m np\u001b[38;5;241m.\u001b[39marctan2(yf \u001b[38;5;241m-\u001b[39m y0, xf \u001b[38;5;241m-\u001b[39m x0)\n\u001b[1;32m    314\u001b[0m pi \u001b[38;5;241m=\u001b[39m math\u001b[38;5;241m.\u001b[39mpi\n",
      "File \u001b[0;32m~/anaconda3/envs/cpp_env/lib/python3.10/site-packages/aristos_cpp/solver.py:385\u001b[0m, in \u001b[0;36mSolver._locate_closest_free\u001b[0;34m(self)\u001b[0m\n\u001b[1;32m    383\u001b[0m grid \u001b[38;5;241m=\u001b[39m \u001b[38;5;28mself\u001b[39m\u001b[38;5;241m.\u001b[39moccupied_grid()\n\u001b[1;32m    384\u001b[0m free \u001b[38;5;241m=\u001b[39m np\u001b[38;5;241m.\u001b[39marray([[i, j] \u001b[38;5;28;01mfor\u001b[39;00m i, j \u001b[38;5;129;01min\u001b[39;00m \u001b[38;5;28mzip\u001b[39m(\u001b[38;5;241m*\u001b[39mnp\u001b[38;5;241m.\u001b[39mwhere(grid\u001b[38;5;241m==\u001b[39m\u001b[38;5;28;01mFalse\u001b[39;00m))])\n\u001b[0;32m--> 385\u001b[0m tree \u001b[38;5;241m=\u001b[39m \u001b[43mKDTree\u001b[49m\u001b[43m(\u001b[49m\u001b[43mfree\u001b[49m\u001b[43m)\u001b[49m\n\u001b[1;32m    386\u001b[0m \u001b[38;5;28;01mreturn\u001b[39;00m free[tree\u001b[38;5;241m.\u001b[39mquery([y0, x0])[\u001b[38;5;241m1\u001b[39m]]\n",
      "File \u001b[0;32m~/anaconda3/envs/cpp_env/lib/python3.10/site-packages/scipy/spatial/_kdtree.py:360\u001b[0m, in \u001b[0;36mKDTree.__init__\u001b[0;34m(self, data, leafsize, compact_nodes, copy_data, balanced_tree, boxsize)\u001b[0m\n\u001b[1;32m    357\u001b[0m     \u001b[38;5;28;01mraise\u001b[39;00m \u001b[38;5;167;01mTypeError\u001b[39;00m(\u001b[38;5;124m\"\u001b[39m\u001b[38;5;124mKDTree does not work with complex data\u001b[39m\u001b[38;5;124m\"\u001b[39m)\n\u001b[1;32m    359\u001b[0m \u001b[38;5;66;03m# Note KDTree has different default leafsize from cKDTree\u001b[39;00m\n\u001b[0;32m--> 360\u001b[0m \u001b[38;5;28;43msuper\u001b[39;49m\u001b[43m(\u001b[49m\u001b[43m)\u001b[49m\u001b[38;5;241;43m.\u001b[39;49m\u001b[38;5;21;43m__init__\u001b[39;49m\u001b[43m(\u001b[49m\u001b[43mdata\u001b[49m\u001b[43m,\u001b[49m\u001b[43m \u001b[49m\u001b[43mleafsize\u001b[49m\u001b[43m,\u001b[49m\u001b[43m \u001b[49m\u001b[43mcompact_nodes\u001b[49m\u001b[43m,\u001b[49m\u001b[43m \u001b[49m\u001b[43mcopy_data\u001b[49m\u001b[43m,\u001b[49m\n\u001b[1;32m    361\u001b[0m \u001b[43m                 \u001b[49m\u001b[43mbalanced_tree\u001b[49m\u001b[43m,\u001b[49m\u001b[43m \u001b[49m\u001b[43mboxsize\u001b[49m\u001b[43m)\u001b[49m\n",
      "File \u001b[0;32m_ckdtree.pyx:560\u001b[0m, in \u001b[0;36mscipy.spatial._ckdtree.cKDTree.__init__\u001b[0;34m()\u001b[0m\n",
      "\u001b[0;31mValueError\u001b[0m: data must be of shape (n, m), where there aren points of dimension m"
     ]
    }
   ],
   "source": [
    "# Initialize the coverage planner\n",
    "planner = CoveragePlanner(hard_map=hard_map, soft_map = soft_map, robot_config=robot_config)\n",
    "\n",
    "# Example polygon (rectangle) defined in meters (x, y)\n",
    "# For example Domokos Map .png has boundaries at xmin=-232.66, xmax=12.321152, ymin=-34.579, ymax=159.968374 \n",
    "# For another map.png given xmin, ymin --> [ xmax ​= xmin ​+ (Width in pixels×Resolution), ymax ​= ymin ​+ (Height in pixels×Resolution) where pixels correspond to grid size]\n",
    "\n",
    "polygon = [\n",
    "    (3.0, 0.0),   # Bottom-right corner\n",
    "    (3.0, 18.0),   # Top-right corner\n",
    "    (-16.0, 18.0),   # Top-left corner\n",
    "    (-16.0, 0.0)    # Bottom-left corner\n",
    "]\n",
    "\n",
    "# Area in Domokos Map that correspond to the center of the map where there are side free corridors\n",
    "# The origin of the path is the upper left corner of the polygon\n",
    "# polygon = [\n",
    "#     (-98.0, 10.0),   # Bottom-right corner\n",
    "#     (-98.0, 26.0),   # Top-right corner\n",
    "#     (-112.0, 26.0),   # Top-left corner\n",
    "#     (-112.0, 10.0)    # Bottom-left corner\n",
    "# ]\n",
    "\n",
    "# Run the planner to get the path\n",
    "# - abs path is the path in the absolute map coordinate system\n",
    "# - rescaled path is the path in the high-dimensional grid coordinate system\n",
    "# - path is the path in the in the low-dimensional grid coordinate system\n",
    "abs_path, rescaled_path, path = planner.run(polygon=polygon)"
   ]
  },
  {
   "cell_type": "markdown",
   "metadata": {},
   "source": [
    "## Plots"
   ]
  },
  {
   "cell_type": "markdown",
   "metadata": {},
   "source": [
    "### Show selected polygon onto the map"
   ]
  },
  {
   "cell_type": "code",
   "execution_count": null,
   "metadata": {},
   "outputs": [
    {
     "ename": "AttributeError",
     "evalue": "'NoneType' object has no attribute 'astype'",
     "output_type": "error",
     "traceback": [
      "\u001b[0;31m---------------------------------------------------------------------------\u001b[0m",
      "\u001b[0;31mAttributeError\u001b[0m                            Traceback (most recent call last)",
      "Cell \u001b[0;32mIn[9], line 2\u001b[0m\n\u001b[1;32m      1\u001b[0m \u001b[38;5;66;03m# map type can be \"original\", \"dilated\", \"eroded\" and \"downscaled\" returns only the selected area\u001b[39;00m\n\u001b[0;32m----> 2\u001b[0m im_total, im_selected \u001b[38;5;241m=\u001b[39m \u001b[43mplanner\u001b[49m\u001b[38;5;241;43m.\u001b[39;49m\u001b[43mmap\u001b[49m\u001b[38;5;241;43m.\u001b[39;49m\u001b[43mshow\u001b[49m\u001b[43m(\u001b[49m\u001b[43mmap_type\u001b[49m\u001b[38;5;241;43m=\u001b[39;49m\u001b[38;5;124;43m\"\u001b[39;49m\u001b[38;5;124;43mdownscaled\u001b[39;49m\u001b[38;5;124;43m\"\u001b[39;49m\u001b[43m,\u001b[49m\u001b[43m \u001b[49m\u001b[43mreverse\u001b[49m\u001b[38;5;241;43m=\u001b[39;49m\u001b[38;5;28;43;01mTrue\u001b[39;49;00m\u001b[43m,\u001b[49m\u001b[43m \u001b[49m\u001b[43mdraw_contour\u001b[49m\u001b[38;5;241;43m=\u001b[39;49m\u001b[38;5;28;43;01mTrue\u001b[39;49;00m\u001b[43m)\u001b[49m\n\u001b[1;32m      3\u001b[0m im_total\n",
      "File \u001b[0;32m~/anaconda3/envs/cpp_env/lib/python3.10/site-packages/aristos_cpp/map.py:205\u001b[0m, in \u001b[0;36mParser.show\u001b[0;34m(self, map_type, reverse, draw_contour)\u001b[0m\n\u001b[1;32m    203\u001b[0m \u001b[38;5;28;01melse\u001b[39;00m: \n\u001b[1;32m    204\u001b[0m     im_total \u001b[38;5;241m=\u001b[39m \u001b[38;5;28;01mNone\u001b[39;00m \n\u001b[0;32m--> 205\u001b[0m arr_selected \u001b[38;5;241m=\u001b[39m \u001b[43marr_selected\u001b[49m\u001b[38;5;241;43m.\u001b[39;49m\u001b[43mastype\u001b[49m(np\u001b[38;5;241m.\u001b[39mfloat64)\n\u001b[1;32m    206\u001b[0m arr_selected[arr_selected \u001b[38;5;241m==\u001b[39m \u001b[38;5;241m-\u001b[39m\u001b[38;5;241m1\u001b[39m] \u001b[38;5;241m=\u001b[39m \u001b[38;5;241m0.5\u001b[39m\n\u001b[1;32m    207\u001b[0m arr_selected \u001b[38;5;241m=\u001b[39m ((\u001b[38;5;241m1\u001b[39m \u001b[38;5;241m-\u001b[39m arr_selected) \u001b[38;5;241m*\u001b[39m \u001b[38;5;241m255\u001b[39m)\u001b[38;5;241m.\u001b[39mastype(np\u001b[38;5;241m.\u001b[39muint8) \u001b[38;5;28;01mif\u001b[39;00m reverse \u001b[38;5;28;01melse\u001b[39;00m (arr_selected \u001b[38;5;241m*\u001b[39m \u001b[38;5;241m255\u001b[39m)\u001b[38;5;241m.\u001b[39mastype(np\u001b[38;5;241m.\u001b[39muint8)\n",
      "\u001b[0;31mAttributeError\u001b[0m: 'NoneType' object has no attribute 'astype'"
     ]
    }
   ],
   "source": [
    "# map type can be \"original\", \"dilated\", \"eroded\" and \"downscaled\" returns only the selected area\n",
    "im_total, im_selected = planner.map.show(map_type=\"original\", reverse=True, draw_contour=True)\n",
    "im_total"
   ]
  },
  {
   "cell_type": "markdown",
   "metadata": {},
   "source": [
    "### Show selected polygon of the map for coverage"
   ]
  },
  {
   "cell_type": "code",
   "execution_count": null,
   "metadata": {},
   "outputs": [
    {
     "data": {
      "image/png": "[encoded data removed]",
      "text/plain": [
       "<PIL.Image.Image image mode=L size=360x883>"
      ]
     },
     "execution_count": 6,
     "metadata": {},
     "output_type": "execute_result"
    }
   ],
   "source": [
    "im_selected"
   ]
  },
  {
   "cell_type": "code",
   "execution_count": null,
   "metadata": {},
   "outputs": [],
   "source": [
    "# Initialize PlotUtils with the map parser from the planner\n",
    "plot_utils = PlotUtils(map_parser=planner.map)"
   ]
  },
  {
   "cell_type": "markdown",
   "metadata": {},
   "source": [
    "### Show path in low-dimensional grid"
   ]
  },
  {
   "cell_type": "code",
   "execution_count": null,
   "metadata": {},
   "outputs": [
    {
     "ename": "NameError",
     "evalue": "name 'path' is not defined",
     "output_type": "error",
     "traceback": [
      "\u001b[0;31m---------------------------------------------------------------------------\u001b[0m",
      "\u001b[0;31mNameError\u001b[0m                                 Traceback (most recent call last)",
      "Cell \u001b[0;32mIn[8], line 2\u001b[0m\n\u001b[1;32m      1\u001b[0m \u001b[38;5;66;03m# map type can be \"original\", \"dilated\", \"eroded\" \u001b[39;00m\n\u001b[0;32m----> 2\u001b[0m plot_utils\u001b[38;5;241m.\u001b[39mplot_grid_with_path(map_type\u001b[38;5;241m=\u001b[39m\u001b[38;5;124m'\u001b[39m\u001b[38;5;124mdilated\u001b[39m\u001b[38;5;124m'\u001b[39m, path\u001b[38;5;241m=\u001b[39m\u001b[43mpath\u001b[49m)\n",
      "\u001b[0;31mNameError\u001b[0m: name 'path' is not defined"
     ]
    }
   ],
   "source": [
    "# map type can be \"original\", \"dilated\", \"eroded\" \n",
    "plot_utils.plot_grid_with_path(map_type='dilated', path=path)"
   ]
  },
  {
   "cell_type": "markdown",
   "metadata": {},
   "source": [
    "### Show rescaled path in high-dimensional grid"
   ]
  },
  {
   "cell_type": "code",
   "execution_count": null,
   "metadata": {},
   "outputs": [],
   "source": [
    "# map type can be \"original\", \"dilated\", \"eroded\" \n",
    "plot_utils.plot_map_with_path(map_type='dilated', path=rescaled_path)"
   ]
  }
 ],
 "metadata": {
  "kernelspec": {
   "display_name": "cpp_env",
   "language": "python",
   "name": "python3"
  },
  "language_info": {
   "codemirror_mode": {
    "name": "ipython",
    "version": 3
   },
   "file_extension": ".py",
   "mimetype": "text/x-python",
   "name": "python",
   "nbconvert_exporter": "python",
   "pygments_lexer": "ipython3",
   "version": "3.10.14"
  }
 },
 "nbformat": 4,
 "nbformat_minor": 2
}
